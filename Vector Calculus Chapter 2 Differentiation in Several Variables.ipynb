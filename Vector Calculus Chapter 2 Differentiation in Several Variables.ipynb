{
 "cells": [
  {
   "cell_type": "markdown",
   "metadata": {},
   "source": [
    "# 2.1 Functions of Several Variables \n",
    "\n",
    "Functions have three main features \n",
    "\n",
    "<b>Domain</b> subset of <i>actual</i> input values  \n",
    "\n",
    "<b>Codomain</b> set of <i> possible </i> output values \n",
    "\n",
    "<b>Range</b> subset of <i> actual </i> output values: $y \\subseteq Y$\n",
    "\n",
    "Range $\\ f = \\{y \\in Y\\ |\\ y=f(x) \\text{ for some } x \\in X\\} $\n",
    "\n",
    "Mapping notation \n",
    "\n",
    "$f: X \\mapsto Y$\n",
    "\n",
    "<b> Onto </b>: Function where $f=Y$\n",
    "\n",
    "<b> One-to-One </b> Function where $ x_1, x_2 \\in X \\text{ and } x_1 \\neq x_2 \\text { then } f(x_1) \\neq f(x_2) $\n",
    "\n",
    "<b>Functions of Several Variables</b>: Associate $X \\subseteq \\mathbb{R}^n$ and $Y \\subseteq \\mathbb{R}^m\\ |\\ n,m \\in \\mathbb{N}$\n",
    "\n",
    "Examples\n",
    "\n",
    "$$ T:\\mathbb{R}^2 \\mapsto \\mathbb{R}\\ |\\ T(x,y)=x+y $$\n",
    "\n",
    "$$ F:\\mathbb{R}^3 \\mapsto \\mathbb{R}\\ |\\ F(x,y,z)=xy+xz+yz $$\n",
    "\n",
    "$$ G:\\mathbb{R}^n \\mapsto \\mathbb{R}\\ |\\ G(\\vec{x})=||\\vec{x}|| $$\n",
    "\n",
    "Types of Multi-Variable Functions \n",
    "\n",
    "<b> Scaler-Valued </b> functions whose codomains are $\\mathbb{R}^m\\ |\\ m=1$\n",
    "\n",
    "<b> Vector-Valued </b> functions whose codomains are $\\mathbb{R}^m\\ |\\ m>1$\n",
    "\n",
    "Component Function\n",
    "\n",
    "if $ f:X \\subseteq \\mathbb{R}^n \\mapsto \\mathbb{R}^m\\ \\text{ then } x \\in X\\ \\text{can be written in terms of } f_1, f_2, \\ldots, f_m\\ \\mid\\ f(x) \\in \\mathbb{R}^m $\n",
    "\n",
    "Example 1\n",
    "\n",
    "$$ \\lVert  \\vec{x} \\rVert = \\sqrt{\\sum_{j=1}^{n}(x_{j}^{2})}$$\n",
    "\n",
    "$$ L(x) = ||x||\\ \\mid\\ x \\in R^n$$\n",
    "\n",
    "$$ L(x) \\Leftrightarrow L(x_1,x_2,\\ldots,x_n) \\Leftrightarrow \\sqrt{x_1^2 + x_2^2, \\ldots, x_n^2} $$\n",
    "\n",
    "Example 2\n",
    "\n",
    "$$ N(x) = \\frac{x}{||x||} \\mid\\ x \\in R^n $$\n",
    "\n",
    "$$ N(x) \\Leftrightarrow \\frac{(x_1,x_2,\\ldots,x_n)}{\\sqrt{x_1^2 + x_2^2, \\ldots, x_n^2}} \\Leftrightarrow \\left(\\frac{x_1}{\\sqrt{x_1^2 + x_2^2, \\ldots, x_n^2}},\\frac{x_2}{\\sqrt{x_1^2 + x_2^2, \\ldots, x_n^2}}, \\ldots ,\\frac{x_n}{\\sqrt{x_1^2 + x_2^2, \\ldots, x_n^2}}\\right)$$\n",
    "\n",
    "$$ N_1(x_1,x_2,\\ldots,x_3) = \\frac{x_1}{\\sqrt{x_1^2 + x_2^2, \\ldots, x_n^2}} $$ \n",
    "$$ N_2(x_1,x_2,\\ldots,x_3) = \\frac{x_2}{\\sqrt{x_1^2 + x_2^2, \\ldots, x_n^2}} $$ \n",
    "$$ N_n(x_1,x_2,\\ldots,x_n) = \\frac{x_n}{\\sqrt{x_1^2 + x_2^2, \\ldots, x_n^2}} $$ \n",
    "$$ \\vdots $$\n",
    "$$ N_3(x_1,x_2,\\ldots,x_3) = \\frac{x_n}{\\sqrt{x_1^2 + x_2^2, \\ldots, x_n^2}} $$ \n",
    "\n",
    "Graphs\n",
    "\n",
    "<b> Level Curve (Contour Map)</b>\n",
    "\n",
    "Let $f:X\\subseteq \\mathbb{R}^2 \\mapsto \\mathbb{R}$\n",
    "\n",
    "Level Curve $c = \\{ (x,y) \\in \\mathbb{R}^2 \\mid\\ f(x,y)=c \\}$\n",
    "\n",
    "<b> Contour Curves </b>\n",
    "\n",
    "Let $f:X\\subseteq \\mathbb{R}^2 \\mapsto \\mathbb{R}$\n",
    "\n",
    "Contour Curve $c = \\{ (x,y,z) \\in \\mathbb{R}^3 \\mid\\ z = f(x,y) = c \\}$\n",
    "\n",
    "<b> Section </b>\n",
    "\n",
    "Let $f:X\\subseteq \\mathbb{R}^n \\mapsto \\mathbb{R}^m$\n",
    "\n",
    "Section $n = \\{(x,y\\ldots,n)^\\frown \\vec{z}) \\in \\mathbb{R}^n \\mid \\vec{z} = f(x,y,\\ldots,n), n=c \\}$ \n",
    "\n"
   ]
  },
  {
   "cell_type": "code",
   "execution_count": 11,
   "metadata": {
    "collapsed": false
   },
   "outputs": [
    {
     "data": {
      "text/plain": [
       "(21, [16, 1, 4], 4.58257569495584, 4.58257569495584)"
      ]
     },
     "execution_count": 11,
     "metadata": {},
     "output_type": "execute_result"
    }
   ],
   "source": [
    "import math\n",
    "\n",
    "vec_x = [4,1,2]\n",
    "\n",
    "def norm(x):\n",
    "    norm = 0\n",
    "    norm_component = []\n",
    "    for i in x:\n",
    "        norm_component.append(i**2)\n",
    "        norm += i**2\n",
    "    return norm, norm_component, math.sqrt(norm), math.sqrt(sum(norm_component,0))\n",
    "\n",
    "norm(vec_x)"
   ]
  },
  {
   "cell_type": "code",
   "execution_count": null,
   "metadata": {
    "collapsed": true
   },
   "outputs": [],
   "source": []
  }
 ],
 "metadata": {
  "kernelspec": {
   "display_name": "Python 3",
   "language": "python",
   "name": "python3"
  },
  "language_info": {
   "codemirror_mode": {
    "name": "ipython",
    "version": 3
   },
   "file_extension": ".py",
   "mimetype": "text/x-python",
   "name": "python",
   "nbconvert_exporter": "python",
   "pygments_lexer": "ipython3",
   "version": "3.6.0"
  }
 },
 "nbformat": 4,
 "nbformat_minor": 2
}
