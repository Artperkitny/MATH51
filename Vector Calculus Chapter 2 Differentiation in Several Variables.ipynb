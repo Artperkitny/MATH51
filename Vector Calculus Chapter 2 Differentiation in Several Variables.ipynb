{
 "cells": [
  {
   "cell_type": "markdown",
   "metadata": {},
   "source": [
    "# 2.1 Functions of Several Variables \n",
    "\n",
    "Functions have three main features \n",
    "\n",
    "<b>Domain</b> subset of <i>actual</i> input values  \n",
    "\n",
    "<b>Codomain</b> set of <i> possible </i> output values \n",
    "\n",
    "<b>Range</b> subset of <i> actual </i> output values: $y \\subseteq Y$\n",
    "\n",
    "Range $\\ f = \\{y \\in Y\\ |\\ y=f(x) \\text{ for some } x \\in X\\} $\n",
    "\n",
    "Mapping notation \n",
    "\n",
    "$f: X \\mapsto Y$\n",
    "\n",
    "<b> Onto </b>: Function where $f=Y$\n",
    "\n",
    "<b> One-to-One </b> Function where $ x_1, x_2 \\in X \\text{ and } x_1 \\neq x_2 \\text { then } f(x_1) \\neq f(x_2) $\n",
    "\n",
    "<b>Functions of Several Variables</b>: Associate $X \\subseteq \\mathbb{R}^n$ and $Y \\subseteq \\mathbb{R}^m\\ |\\ n,m \\in \\mathbb{N}$\n",
    "\n",
    "Examples\n",
    "\n",
    "$$ T:\\mathbb{R}^2 \\mapsto \\mathbb{R}\\ |\\ T(x,y)=x+y $$\n",
    "\n",
    "$$ F:\\mathbb{R}^3 \\mapsto \\mathbb{R}\\ |\\ F(x,y,z)=xy+xz+yz $$\n",
    "\n",
    "$$ G:\\mathbb{R}^n \\mapsto \\mathbb{R}\\ |\\ G(\\vec{x})=||\\vec{x}|| $$\n",
    "\n",
    "Types of Multi-Variable Functions \n",
    "\n",
    "<b> Scaler-Valued </b> functions whose codomains are $\\mathbb{R}^m\\ |\\ m=1$\n",
    "\n",
    "<b> Vector-Valued </b> functions whose codomains are $\\mathbb{R}^m\\ |\\ m>1$\n",
    "\n",
    "Component Function\n",
    "\n",
    "if $ f:X \\subseteq \\mathbb{R}^n \\mapsto \\mathbb{R}^m\\ \\text{ then } x \\in X\\ \\text{can be written in terms of } f_1, f_2, \\ldots, f_m\\ \\mid\\ f(x) \\in \\mathbb{R}^m $\n",
    "\n",
    "Example 1\n",
    "\n",
    "$$ \\lVert  \\vec{x} \\rVert = \\sqrt{\\sum_{j=1}^{n}(x_{j}^{2})}$$\n",
    "\n",
    "$$ L(x) = ||x||\\ \\mid\\ x \\in R^n$$\n",
    "\n",
    "$$ L(x) \\Leftrightarrow L(x_1,x_2,\\ldots,x_n) \\Leftrightarrow \\sqrt{x_1^2 + x_2^2, \\ldots, x_n^2} $$\n",
    "\n",
    "Example 2\n",
    "\n",
    "$$ N(x) = \\frac{x}{||x||} \\mid\\ x \\in R^n $$\n",
    "\n",
    "$$ N(x) \\Leftrightarrow \\frac{(x_1,x_2,\\ldots,x_n)}{\\sqrt{x_1^2 + x_2^2, \\ldots, x_n^2}} \\Leftrightarrow \\left(\\frac{x_1}{\\sqrt{x_1^2 + x_2^2, \\ldots, x_n^2}},\\frac{x_2}{\\sqrt{x_1^2 + x_2^2, \\ldots, x_n^2}}, \\ldots ,\\frac{x_n}{\\sqrt{x_1^2 + x_2^2, \\ldots, x_n^2}}\\right)$$\n",
    "\n",
    "$$ N_1(x_1,x_2,\\ldots,x_3) = \\frac{x_1}{\\sqrt{x_1^2 + x_2^2, \\ldots, x_n^2}} $$ \n",
    "$$ N_2(x_1,x_2,\\ldots,x_3) = \\frac{x_2}{\\sqrt{x_1^2 + x_2^2, \\ldots, x_n^2}} $$ \n",
    "$$ N_n(x_1,x_2,\\ldots,x_n) = \\frac{x_n}{\\sqrt{x_1^2 + x_2^2, \\ldots, x_n^2}} $$ \n",
    "$$ \\vdots $$\n",
    "$$ N_3(x_1,x_2,\\ldots,x_3) = \\frac{x_n}{\\sqrt{x_1^2 + x_2^2, \\ldots, x_n^2}} $$ \n",
    "\n",
    "Graphs\n",
    "\n",
    "<b> Level Curve (Contour Map)</b>\n",
    "\n",
    "Let $f:X\\subseteq \\mathbb{R}^2 \\mapsto \\mathbb{R}$\n",
    "\n",
    "Level Curve $c = \\{ (x,y) \\in \\mathbb{R}^2 \\mid\\ f(x,y)=c \\}$\n",
    "\n",
    "<b> Contour Curves </b>\n",
    "\n",
    "Let $f:X\\subseteq \\mathbb{R}^2 \\mapsto \\mathbb{R}$\n",
    "\n",
    "Contour Curve $c = \\{ (x,y,z) \\in \\mathbb{R}^3 \\mid\\ z = f(x,y) = c \\}$\n",
    "\n",
    "<b> Section </b>\n",
    "\n",
    "Let $f:X\\subseteq \\mathbb{R}^n \\mapsto \\mathbb{R}^m$\n",
    "\n",
    "Section $n = \\{(x,y\\ldots,n)^\\frown \\vec{z}) \\in \\mathbb{R}^n \\mid \\vec{z} = f(x,y,\\ldots,n), n=c \\}$ \n",
    "\n"
   ]
  },
  {
   "cell_type": "markdown",
   "metadata": {},
   "source": [
    "# 2.2 Limits\n",
    "\n",
    "<b>Limits</b>\n",
    "\n",
    "Intuitive Definition of Limits \n",
    "\n",
    "$$ lim_{x \\to a} f(x) = L \\mid\\ f:X \\subseteq\\ \\mathbb{R}^n \\mapsto \\mathbb{R}^m$$\n",
    "\n",
    "$ \\|f(x)-L\\|  $ approaches 0 when $ \\|x-a\\| $ approaches 0\n",
    "\n",
    "Rigorous Definition \n",
    "\n",
    "$$ lim_{x \\to a} f(x) = L \\mid\\ f:X \\subseteq\\ \\mathbb{R}^n \\mapsto \\mathbb{R}^m$$ \n",
    "\n",
    "$$ \\text{for any given } \\epsilon > 0 \\text{ you can find } \\xi >0 \\text{ such that if } x \\in X \\text{ and } 0\\lt\\|x-a\\| \\lt \\xi \\text{ then } \\|f(x)-L\\| < \\epsilon $$ \n",
    " \n",
    " \n",
    "Limits typically fail to exist for one of four reasons:\n",
    "\n",
    "- The one-sided limits are not equal\n",
    "- The function doesn't approach a finite value (see Basic Definition of Limit).\n",
    "- The function doesn't approach a particular value (oscillation).\n",
    "- The x value is approaching the endpoint of a closed interval\n",
    "\n",
    "\n",
    "<b>L'Hôpital's rule</b>\n",
    "\n",
    " - INCOMPLETE\n",
    "\n",
    "<b>Continuity</b>\n",
    "\n",
    "An open interval does not include its endpoints, and is indicated with parentheses. For example, (0,1) means greater than 0 and less than 1. A closed interval is an interval which includes all its limit points, \n",
    "\n",
    "Closed Interval \n",
    "\n",
    "$ [0,1]\\ 0 \\le x \\le 1$\n",
    "\n",
    "Half-Open Interval \n",
    "\n",
    "$ [0,1)\\ 0 \\le x \\lt 1$\n",
    "\n",
    "$ (0,1]\\ 0 \\lt x \\le 1$\n",
    "\n",
    "Open Interval \n",
    "\n",
    "$ (0,1)\\ 0 \\lt x \\lt 1$\n",
    "\n",
    "- Jump Discontinuity \n",
    "\n",
    "$$\n",
    "f(x) =\n",
    "\\begin{cases}\n",
    "x, & x<1\\\\\n",
    "2x^2, & x \\geq 1 \n",
    "\\end{cases}\n",
    "$$\n",
    "\n",
    "$$lim_{x \\to c^-} \\ne lim_{x \\to c^+} $$\n",
    "\n",
    "- Removable Discontinuity \n",
    "\n",
    "$$\n",
    "f(x) =\n",
    "\\begin{cases}\n",
    "x^2, & x<1\\\\\n",
    "5, & x=1 \\\\\n",
    "x^2, & x>1 \n",
    "\\end{cases}\n",
    "$$\n",
    "\n",
    "$$lim_{x \\to c} = L$$\n",
    "\n",
    "$$ f(c) \\ne L$$\n",
    "\n",
    "- Interior Point: Not at boundary of function \n",
    "\n",
    "$$lim_{x \\to c} = f(c)$$\n",
    "\n",
    "\n",
    "- End Point: At boundary of function \n",
    "\n",
    "$$lim_{x \\to c^-} = f(c)\\ \\text{ OR } lim_{x \\to c^+} = f(c)$$\n",
    "\n",
    "\n",
    "<b>Differentiable</b> \n",
    "\n",
    "The function $f$ is <b>differentiable</b> at $x$ if:\n",
    "\n",
    "$\\lim_{h\\to 0} \\frac{f(x+h)-f(x)}{h} $ exists\n",
    "\n",
    "\n",
    "<table style=\"width:60%\">\n",
    "  <tr>\n",
    "    <th></th>\n",
    "    <th>Differentiable</th>\n",
    "    <th>NOT Differentiable</th> \n",
    "  </tr>\n",
    "  <tr>\n",
    "    <th>Continuous</th>\n",
    "    <th>\n",
    "        $\\lim_{h\\to 0} \\frac{f(x+h)-f(x)}{h} $ Exists \n",
    "        $lim_{x \\to c} = f(c)$ \n",
    "    </th>\n",
    "    <th>\n",
    "        $\\lim_{h\\to 0} \\frac{f(x+h)-f(x)}{h} $ Does not Exist\n",
    "        $lim_{x \\to c} = f(c)$ \n",
    "    </th>\n",
    "  </tr>\n",
    "  <tr>\n",
    "    <th>NOT Continuous</th> \n",
    "    <th bgcolor=\"ff0000\">CANNOT EXIST</th>\n",
    "    <th>\n",
    "        $\\lim_{h\\to 0} \\frac{f(x+h)-f(x)}{h} $ Does not Exist\n",
    "        $lim_{x \\to c} \\ne f(c)$ \n",
    "    </th>\n",
    "  </tr>\n",
    "</table>\n"
   ]
  },
  {
   "cell_type": "markdown",
   "metadata": {},
   "source": [
    "# 2.3 The Derivative \n",
    "\n",
    "Derivative of Single Variables Function $f:\\mathbb{R} \\mapsto \\mathbb{R}$\n",
    "\n",
    "$$ f^{\\prime}(a) = \\lim_{h \\to 0} \\frac{f(a+h)-f(a)}{h} $$\n",
    "\n",
    "$f$ is <b>differentiable</b> at $a$ when the limit exists\n",
    "\n",
    "Derivative of Multi-Variable Function $f:\\mathbb{R}^n \\mapsto \\mathbb{R}^m \\mid n,m \\in \\mathbb{N}$\n",
    "\n",
    "$$ \\frac{\\partial f}{\\partial a} = \\lim_{h \\to 0} \\frac{f(x,y,\\ldots,a + h) - f(x,y,\\ldots,a)}{h} $$ \n",
    "\n",
    "\n",
    "<b>Tangent Plane</b>\n",
    "\n",
    "if the graph of $z = f(x,y)$ has a tangent plane at $(x,y,f(x,y))$, then that tangent plane has the equation:\n",
    "\n",
    "$$ z = f(a,b)+f_x(a,b)(x-a)+f_y(a,b)(y-b)$$\n",
    "\n",
    "$ f \\text{ is differentiable at } (a,b) \\in X \\text{ if the partial derivatives } f_x(a,b) \\text{ and } f_y(a,b) \\text{ exist and if the function } h(x,y) = z \\text{ is a good linear approximation to } f \\text{ near } (a,b) \\lim_{(x,y) \\to (a,b)} \\frac{(f(x,y)-h(x,y)}{\\|(x,y)-(a,b)\\|}=0 \\text{ if } f \\text{ is differentiable at } (a,b) \\text{ then the equation } z=h(x,y) \\text{ defines the tangent plane to the graph of } f \\text{ at points } (a,b,f(a,b)) \\text{. If } f \\text{ is differentiable at all points of its domain, then } f \\text{ is said to be differentiable} $"
   ]
  },
  {
   "cell_type": "code",
   "execution_count": 11,
   "metadata": {
    "collapsed": false
   },
   "outputs": [
    {
     "data": {
      "text/plain": [
       "(21, [16, 1, 4], 4.58257569495584, 4.58257569495584)"
      ]
     },
     "execution_count": 11,
     "metadata": {},
     "output_type": "execute_result"
    }
   ],
   "source": [
    "import math\n",
    "\n",
    "vec_x = [4,1,2]\n",
    "\n",
    "def norm(x):\n",
    "    norm = 0\n",
    "    norm_component = []\n",
    "    for i in x:\n",
    "        norm_component.append(i**2)\n",
    "        norm += i**2\n",
    "    return norm, norm_component, math.sqrt(norm), math.sqrt(sum(norm_component,0))\n",
    "\n",
    "norm(vec_x)"
   ]
  },
  {
   "cell_type": "code",
   "execution_count": 61,
   "metadata": {
    "collapsed": false
   },
   "outputs": [
    {
     "data": {
      "image/png": "[encoded data removed]",
      "text/latex": [
       "$$\\frac{3 x^{4} - 6 x^{2} y^{2} - y^{4}}{x^{4} + 2 x^{2} y^{2} + y^{4}}$$"
      ],
      "text/plain": [
       "   4      2  2    4\n",
       "3⋅x  - 6⋅x ⋅y  - y \n",
       "───────────────────\n",
       "  4      2  2    4 \n",
       " x  + 2⋅x ⋅y  + y  "
      ]
     },
     "execution_count": 61,
     "metadata": {},
     "output_type": "execute_result"
    }
   ],
   "source": [
    "from sympy import *\n",
    "from sympy.plotting import *\n",
    "\n",
    "x,y,h =symbols('x y h')\n",
    "a = y\n",
    "expr = (3*x**2*y-y**3)/(x**2+y**2)\n",
    "z = simplify(diff(expr,a))\n",
    "\n",
    "simplify(diff(expr,a))\n"
   ]
  },
  {
   "cell_type": "code",
   "execution_count": 60,
   "metadata": {
    "collapsed": false
   },
   "outputs": [
    {
     "data": {
      "image/png": "[encoded data removed]",
      "text/latex": [
       "$$0$$"
      ],
      "text/plain": [
       "0"
      ]
     },
     "execution_count": 60,
     "metadata": {},
     "output_type": "execute_result"
    }
   ],
   "source": [
    "limit(z,y,0)"
   ]
  },
  {
   "cell_type": "code",
   "execution_count": 67,
   "metadata": {
    "collapsed": false
   },
   "outputs": [
    {
     "data": {
      "image/png": "[encoded data removed]",
      "text/latex": [
       "$$-1$$"
      ],
      "text/plain": [
       "-1"
      ]
     },
     "execution_count": 67,
     "metadata": {},
     "output_type": "execute_result"
    }
   ],
   "source": [
    "limit((-h-0)/h,h,0)"
   ]
  },
  {
   "cell_type": "code",
   "execution_count": 68,
   "metadata": {
    "collapsed": false
   },
   "outputs": [
    {
     "data": {
      "image/png": "[encoded data removed]",
      "text/latex": [
       "$$0$$"
      ],
      "text/plain": [
       "0"
      ]
     },
     "execution_count": 68,
     "metadata": {},
     "output_type": "execute_result"
    }
   ],
   "source": [
    "limit((0-0)/h,h,0)"
   ]
  },
  {
   "cell_type": "code",
   "execution_count": 72,
   "metadata": {
    "collapsed": false
   },
   "outputs": [
    {
     "data": {
      "text/latex": [
       "$$\\begin{cases} x^{2} & \\text{for}\\: x > 0 \\vee x < 0 \\end{cases}$$"
      ],
      "text/plain": [
       "⎧ 2                   \n",
       "⎨x   for x > 0 ∨ x < 0\n",
       "⎩                     "
      ]
     },
     "execution_count": 72,
     "metadata": {},
     "output_type": "execute_result"
    }
   ],
   "source": [
    "p = Piecewise((0,x==0),(x**2,x>0),(x**2,x<0))\n",
    "p\n",
    "plot"
   ]
  },
  {
   "cell_type": "code",
   "execution_count": 73,
   "metadata": {
    "collapsed": false
   },
   "outputs": [
    {
     "ename": "TypeError",
     "evalue": "'<' not supported between instances of 'complex' and 'int'",
     "output_type": "error",
     "traceback": [
      "\u001b[1;31m---------------------------------------------------------------------------\u001b[0m",
      "\u001b[1;31mTypeError\u001b[0m                                 Traceback (most recent call last)",
      "\u001b[1;32m~\\Anaconda3\\lib\\site-packages\\sympy\\plotting\\experimental_lambdify.py\u001b[0m in \u001b[0;36m__call__\u001b[1;34m(self, args)\u001b[0m\n\u001b[0;32m    193\u001b[0m             \u001b[1;31m#The result can be sympy.Float. Hence wrap it with complex type.\u001b[0m\u001b[1;33m\u001b[0m\u001b[1;33m\u001b[0m\u001b[0m\n\u001b[1;32m--> 194\u001b[1;33m             \u001b[0mresult\u001b[0m \u001b[1;33m=\u001b[0m \u001b[0mcomplex\u001b[0m\u001b[1;33m(\u001b[0m\u001b[0mself\u001b[0m\u001b[1;33m.\u001b[0m\u001b[0mlambda_func\u001b[0m\u001b[1;33m(\u001b[0m\u001b[0margs\u001b[0m\u001b[1;33m)\u001b[0m\u001b[1;33m)\u001b[0m\u001b[1;33m\u001b[0m\u001b[0m\n\u001b[0m\u001b[0;32m    195\u001b[0m             \u001b[1;32mif\u001b[0m \u001b[0mabs\u001b[0m\u001b[1;33m(\u001b[0m\u001b[0mresult\u001b[0m\u001b[1;33m.\u001b[0m\u001b[0mimag\u001b[0m\u001b[1;33m)\u001b[0m \u001b[1;33m>\u001b[0m \u001b[1;36m1e-7\u001b[0m \u001b[1;33m*\u001b[0m \u001b[0mabs\u001b[0m\u001b[1;33m(\u001b[0m\u001b[0mresult\u001b[0m\u001b[1;33m)\u001b[0m\u001b[1;33m:\u001b[0m\u001b[1;33m\u001b[0m\u001b[0m\n",
      "\u001b[1;32m~\\Anaconda3\\lib\\site-packages\\sympy\\plotting\\experimental_lambdify.py\u001b[0m in \u001b[0;36m__call__\u001b[1;34m(self, *args, **kwargs)\u001b[0m\n\u001b[0;32m    310\u001b[0m     \u001b[1;32mdef\u001b[0m \u001b[0m__call__\u001b[0m\u001b[1;33m(\u001b[0m\u001b[0mself\u001b[0m\u001b[1;33m,\u001b[0m \u001b[1;33m*\u001b[0m\u001b[0margs\u001b[0m\u001b[1;33m,\u001b[0m \u001b[1;33m**\u001b[0m\u001b[0mkwargs\u001b[0m\u001b[1;33m)\u001b[0m\u001b[1;33m:\u001b[0m\u001b[1;33m\u001b[0m\u001b[0m\n\u001b[1;32m--> 311\u001b[1;33m         \u001b[1;32mreturn\u001b[0m \u001b[0mself\u001b[0m\u001b[1;33m.\u001b[0m\u001b[0mlambda_func\u001b[0m\u001b[1;33m(\u001b[0m\u001b[1;33m*\u001b[0m\u001b[0margs\u001b[0m\u001b[1;33m,\u001b[0m \u001b[1;33m**\u001b[0m\u001b[0mkwargs\u001b[0m\u001b[1;33m)\u001b[0m\u001b[1;33m\u001b[0m\u001b[0m\n\u001b[0m\u001b[0;32m    312\u001b[0m \u001b[1;33m\u001b[0m\u001b[0m\n",
      "\u001b[1;32m<string>\u001b[0m in \u001b[0;36m<lambda>\u001b[1;34m(x0)\u001b[0m\n",
      "\u001b[1;31mTypeError\u001b[0m: '<' not supported between instances of 'complex' and 'int'",
      "\nDuring handling of the above exception, another exception occurred:\n",
      "\u001b[1;31mTypeError\u001b[0m                                 Traceback (most recent call last)",
      "\u001b[1;32m<ipython-input-73-231550765020>\u001b[0m in \u001b[0;36m<module>\u001b[1;34m()\u001b[0m\n\u001b[1;32m----> 1\u001b[1;33m \u001b[0mplot\u001b[0m\u001b[1;33m(\u001b[0m\u001b[0mp\u001b[0m\u001b[1;33m)\u001b[0m\u001b[1;33m\u001b[0m\u001b[0m\n\u001b[0m",
      "\u001b[1;32m~\\Anaconda3\\lib\\site-packages\\sympy\\plotting\\plot.py\u001b[0m in \u001b[0;36mplot\u001b[1;34m(*args, **kwargs)\u001b[0m\n\u001b[0;32m   1282\u001b[0m     \u001b[0mplots\u001b[0m \u001b[1;33m=\u001b[0m \u001b[0mPlot\u001b[0m\u001b[1;33m(\u001b[0m\u001b[1;33m*\u001b[0m\u001b[0mseries\u001b[0m\u001b[1;33m,\u001b[0m \u001b[1;33m**\u001b[0m\u001b[0mkwargs\u001b[0m\u001b[1;33m)\u001b[0m\u001b[1;33m\u001b[0m\u001b[0m\n\u001b[0;32m   1283\u001b[0m     \u001b[1;32mif\u001b[0m \u001b[0mshow\u001b[0m\u001b[1;33m:\u001b[0m\u001b[1;33m\u001b[0m\u001b[0m\n\u001b[1;32m-> 1284\u001b[1;33m         \u001b[0mplots\u001b[0m\u001b[1;33m.\u001b[0m\u001b[0mshow\u001b[0m\u001b[1;33m(\u001b[0m\u001b[1;33m)\u001b[0m\u001b[1;33m\u001b[0m\u001b[0m\n\u001b[0m\u001b[0;32m   1285\u001b[0m     \u001b[1;32mreturn\u001b[0m \u001b[0mplots\u001b[0m\u001b[1;33m\u001b[0m\u001b[0m\n\u001b[0;32m   1286\u001b[0m \u001b[1;33m\u001b[0m\u001b[0m\n",
      "\u001b[1;32m~\\Anaconda3\\lib\\site-packages\\sympy\\plotting\\plot.py\u001b[0m in \u001b[0;36mshow\u001b[1;34m(self)\u001b[0m\n\u001b[0;32m    183\u001b[0m             \u001b[0mself\u001b[0m\u001b[1;33m.\u001b[0m\u001b[0m_backend\u001b[0m\u001b[1;33m.\u001b[0m\u001b[0mclose\u001b[0m\u001b[1;33m(\u001b[0m\u001b[1;33m)\u001b[0m\u001b[1;33m\u001b[0m\u001b[0m\n\u001b[0;32m    184\u001b[0m         \u001b[0mself\u001b[0m\u001b[1;33m.\u001b[0m\u001b[0m_backend\u001b[0m \u001b[1;33m=\u001b[0m \u001b[0mself\u001b[0m\u001b[1;33m.\u001b[0m\u001b[0mbackend\u001b[0m\u001b[1;33m(\u001b[0m\u001b[0mself\u001b[0m\u001b[1;33m)\u001b[0m\u001b[1;33m\u001b[0m\u001b[0m\n\u001b[1;32m--> 185\u001b[1;33m         \u001b[0mself\u001b[0m\u001b[1;33m.\u001b[0m\u001b[0m_backend\u001b[0m\u001b[1;33m.\u001b[0m\u001b[0mshow\u001b[0m\u001b[1;33m(\u001b[0m\u001b[1;33m)\u001b[0m\u001b[1;33m\u001b[0m\u001b[0m\n\u001b[0m\u001b[0;32m    186\u001b[0m \u001b[1;33m\u001b[0m\u001b[0m\n\u001b[0;32m    187\u001b[0m     \u001b[1;32mdef\u001b[0m \u001b[0msave\u001b[0m\u001b[1;33m(\u001b[0m\u001b[0mself\u001b[0m\u001b[1;33m,\u001b[0m \u001b[0mpath\u001b[0m\u001b[1;33m)\u001b[0m\u001b[1;33m:\u001b[0m\u001b[1;33m\u001b[0m\u001b[0m\n",
      "\u001b[1;32m~\\Anaconda3\\lib\\site-packages\\sympy\\plotting\\plot.py\u001b[0m in \u001b[0;36mshow\u001b[1;34m(self)\u001b[0m\n\u001b[0;32m   1016\u001b[0m \u001b[1;33m\u001b[0m\u001b[0m\n\u001b[0;32m   1017\u001b[0m     \u001b[1;32mdef\u001b[0m \u001b[0mshow\u001b[0m\u001b[1;33m(\u001b[0m\u001b[0mself\u001b[0m\u001b[1;33m)\u001b[0m\u001b[1;33m:\u001b[0m\u001b[1;33m\u001b[0m\u001b[0m\n\u001b[1;32m-> 1018\u001b[1;33m         \u001b[0mself\u001b[0m\u001b[1;33m.\u001b[0m\u001b[0mprocess_series\u001b[0m\u001b[1;33m(\u001b[0m\u001b[1;33m)\u001b[0m\u001b[1;33m\u001b[0m\u001b[0m\n\u001b[0m\u001b[0;32m   1019\u001b[0m         \u001b[1;31m#TODO after fixing https://github.com/ipython/ipython/issues/1255\u001b[0m\u001b[1;33m\u001b[0m\u001b[1;33m\u001b[0m\u001b[0m\n\u001b[0;32m   1020\u001b[0m         \u001b[1;31m# you can uncomment the next line and remove the pyplot.show() call\u001b[0m\u001b[1;33m\u001b[0m\u001b[1;33m\u001b[0m\u001b[0m\n",
      "\u001b[1;32m~\\Anaconda3\\lib\\site-packages\\sympy\\plotting\\plot.py\u001b[0m in \u001b[0;36mprocess_series\u001b[1;34m(self)\u001b[0m\n\u001b[0;32m    895\u001b[0m             \u001b[1;31m# Create the collections\u001b[0m\u001b[1;33m\u001b[0m\u001b[1;33m\u001b[0m\u001b[0m\n\u001b[0;32m    896\u001b[0m             \u001b[1;32mif\u001b[0m \u001b[0ms\u001b[0m\u001b[1;33m.\u001b[0m\u001b[0mis_2Dline\u001b[0m\u001b[1;33m:\u001b[0m\u001b[1;33m\u001b[0m\u001b[0m\n\u001b[1;32m--> 897\u001b[1;33m                 \u001b[0mcollection\u001b[0m \u001b[1;33m=\u001b[0m \u001b[0mself\u001b[0m\u001b[1;33m.\u001b[0m\u001b[0mLineCollection\u001b[0m\u001b[1;33m(\u001b[0m\u001b[0ms\u001b[0m\u001b[1;33m.\u001b[0m\u001b[0mget_segments\u001b[0m\u001b[1;33m(\u001b[0m\u001b[1;33m)\u001b[0m\u001b[1;33m)\u001b[0m\u001b[1;33m\u001b[0m\u001b[0m\n\u001b[0m\u001b[0;32m    898\u001b[0m                 \u001b[0mself\u001b[0m\u001b[1;33m.\u001b[0m\u001b[0max\u001b[0m\u001b[1;33m.\u001b[0m\u001b[0madd_collection\u001b[0m\u001b[1;33m(\u001b[0m\u001b[0mcollection\u001b[0m\u001b[1;33m)\u001b[0m\u001b[1;33m\u001b[0m\u001b[0m\n\u001b[0;32m    899\u001b[0m             \u001b[1;32melif\u001b[0m \u001b[0ms\u001b[0m\u001b[1;33m.\u001b[0m\u001b[0mis_contour\u001b[0m\u001b[1;33m:\u001b[0m\u001b[1;33m\u001b[0m\u001b[0m\n",
      "\u001b[1;32m~\\Anaconda3\\lib\\site-packages\\sympy\\plotting\\plot.py\u001b[0m in \u001b[0;36mget_segments\u001b[1;34m(self)\u001b[0m\n\u001b[0;32m    501\u001b[0m                     \u001b[0mlist_segments\u001b[0m\u001b[1;33m.\u001b[0m\u001b[0mappend\u001b[0m\u001b[1;33m(\u001b[0m\u001b[1;33m[\u001b[0m\u001b[0mp\u001b[0m\u001b[1;33m,\u001b[0m \u001b[0mq\u001b[0m\u001b[1;33m]\u001b[0m\u001b[1;33m)\u001b[0m\u001b[1;33m\u001b[0m\u001b[0m\n\u001b[0;32m    502\u001b[0m \u001b[1;33m\u001b[0m\u001b[0m\n\u001b[1;32m--> 503\u001b[1;33m             \u001b[0mf_start\u001b[0m \u001b[1;33m=\u001b[0m \u001b[0mf\u001b[0m\u001b[1;33m(\u001b[0m\u001b[0mself\u001b[0m\u001b[1;33m.\u001b[0m\u001b[0mstart\u001b[0m\u001b[1;33m)\u001b[0m\u001b[1;33m\u001b[0m\u001b[0m\n\u001b[0m\u001b[0;32m    504\u001b[0m             \u001b[0mf_end\u001b[0m \u001b[1;33m=\u001b[0m \u001b[0mf\u001b[0m\u001b[1;33m(\u001b[0m\u001b[0mself\u001b[0m\u001b[1;33m.\u001b[0m\u001b[0mend\u001b[0m\u001b[1;33m)\u001b[0m\u001b[1;33m\u001b[0m\u001b[0m\n\u001b[0;32m    505\u001b[0m             \u001b[0msample\u001b[0m\u001b[1;33m(\u001b[0m\u001b[1;33m[\u001b[0m\u001b[0mself\u001b[0m\u001b[1;33m.\u001b[0m\u001b[0mstart\u001b[0m\u001b[1;33m,\u001b[0m \u001b[0mf_start\u001b[0m\u001b[1;33m]\u001b[0m\u001b[1;33m,\u001b[0m \u001b[1;33m[\u001b[0m\u001b[0mself\u001b[0m\u001b[1;33m.\u001b[0m\u001b[0mend\u001b[0m\u001b[1;33m,\u001b[0m \u001b[0mf_end\u001b[0m\u001b[1;33m]\u001b[0m\u001b[1;33m,\u001b[0m \u001b[1;36m0\u001b[0m\u001b[1;33m)\u001b[0m\u001b[1;33m\u001b[0m\u001b[0m\n",
      "\u001b[1;32m~\\Anaconda3\\lib\\site-packages\\sympy\\plotting\\experimental_lambdify.py\u001b[0m in \u001b[0;36m__call__\u001b[1;34m(self, args)\u001b[0m\n\u001b[0;32m    227\u001b[0m                                                     \u001b[0muse_evalf\u001b[0m\u001b[1;33m=\u001b[0m\u001b[1;32mTrue\u001b[0m\u001b[1;33m,\u001b[0m\u001b[1;33m\u001b[0m\u001b[0m\n\u001b[0;32m    228\u001b[0m                                                     complex_wrap_evalf=True)\n\u001b[1;32m--> 229\u001b[1;33m                 \u001b[0mresult\u001b[0m \u001b[1;33m=\u001b[0m \u001b[0mself\u001b[0m\u001b[1;33m.\u001b[0m\u001b[0mlambda_func\u001b[0m\u001b[1;33m(\u001b[0m\u001b[0margs\u001b[0m\u001b[1;33m)\u001b[0m\u001b[1;33m\u001b[0m\u001b[0m\n\u001b[0m\u001b[0;32m    230\u001b[0m                 warnings.warn('The evaluation of the expression is'\n\u001b[0;32m    231\u001b[0m                         \u001b[1;34m' problematic. We are trying a failback method'\u001b[0m\u001b[1;33m\u001b[0m\u001b[0m\n",
      "\u001b[1;32m~\\Anaconda3\\lib\\site-packages\\sympy\\plotting\\experimental_lambdify.py\u001b[0m in \u001b[0;36m__call__\u001b[1;34m(self, *args, **kwargs)\u001b[0m\n\u001b[0;32m    309\u001b[0m \u001b[1;33m\u001b[0m\u001b[0m\n\u001b[0;32m    310\u001b[0m     \u001b[1;32mdef\u001b[0m \u001b[0m__call__\u001b[0m\u001b[1;33m(\u001b[0m\u001b[0mself\u001b[0m\u001b[1;33m,\u001b[0m \u001b[1;33m*\u001b[0m\u001b[0margs\u001b[0m\u001b[1;33m,\u001b[0m \u001b[1;33m**\u001b[0m\u001b[0mkwargs\u001b[0m\u001b[1;33m)\u001b[0m\u001b[1;33m:\u001b[0m\u001b[1;33m\u001b[0m\u001b[0m\n\u001b[1;32m--> 311\u001b[1;33m         \u001b[1;32mreturn\u001b[0m \u001b[0mself\u001b[0m\u001b[1;33m.\u001b[0m\u001b[0mlambda_func\u001b[0m\u001b[1;33m(\u001b[0m\u001b[1;33m*\u001b[0m\u001b[0margs\u001b[0m\u001b[1;33m,\u001b[0m \u001b[1;33m**\u001b[0m\u001b[0mkwargs\u001b[0m\u001b[1;33m)\u001b[0m\u001b[1;33m\u001b[0m\u001b[0m\n\u001b[0m\u001b[0;32m    312\u001b[0m \u001b[1;33m\u001b[0m\u001b[0m\n\u001b[0;32m    313\u001b[0m \u001b[1;33m\u001b[0m\u001b[0m\n",
      "\u001b[1;32m<string>\u001b[0m in \u001b[0;36m<lambda>\u001b[1;34m(x0)\u001b[0m\n",
      "\u001b[1;31mTypeError\u001b[0m: '<' not supported between instances of 'complex' and 'int'"
     ]
    }
   ],
   "source": [
    "plot(p)"
   ]
  },
  {
   "cell_type": "code",
   "execution_count": null,
   "metadata": {
    "collapsed": true
   },
   "outputs": [],
   "source": []
  }
 ],
 "metadata": {
  "kernelspec": {
   "display_name": "Python 3",
   "language": "python",
   "name": "python3"
  },
  "language_info": {
   "codemirror_mode": {
    "name": "ipython",
    "version": 3
   },
   "file_extension": ".py",
   "mimetype": "text/x-python",
   "name": "python",
   "nbconvert_exporter": "python",
   "pygments_lexer": "ipython3",
   "version": "3.6.0"
  }
 },
 "nbformat": 4,
 "nbformat_minor": 2
}
